{
  "nbformat": 4,
  "nbformat_minor": 0,
  "metadata": {
    "colab": {
      "provenance": [],
      "include_colab_link": true
    },
    "kernelspec": {
      "name": "python3",
      "display_name": "Python 3"
    },
    "accelerator": "GPU"
  },
  "cells": [
    {
      "cell_type": "markdown",
      "metadata": {
        "id": "view-in-github",
        "colab_type": "text"
      },
      "source": [
        "<a href=\"https://colab.research.google.com/github/Abs-CV/Sentiment-Analysis-of-IMDB-Movie-Reviews/blob/main/imdb_movie_reviews.ipynb\" target=\"_parent\"><img src=\"https://colab.research.google.com/assets/colab-badge.svg\" alt=\"Open In Colab\"/></a>"
      ]
    },
    {
      "metadata": {
        "id": "HJ8Y4D7k4aau"
      },
      "cell_type": "code",
      "source": [
        "import numpy\n",
        "from keras.datasets import imdb\n",
        "from keras.models import Sequential\n",
        "from keras.layers import Dense\n",
        "from keras.layers import LSTM\n",
        "from keras.layers import Embedding\n",
        "from keras_preprocessing import sequence"
      ],
      "execution_count": 40,
      "outputs": []
    },
    {
      "metadata": {
        "id": "dq6veg8r6W0L"
      },
      "cell_type": "code",
      "source": [
        "numpy.random.seed(7)"
      ],
      "execution_count": 41,
      "outputs": []
    },
    {
      "metadata": {
        "id": "31JHkmhl6oHF"
      },
      "cell_type": "code",
      "source": [
        "words_limit=6000#here we choose 6000 words to be in our reviews\n",
        "(X_train,y_train),(X_test,y_test) = imdb.load_data(num_words=words_limit)"
      ],
      "execution_count": 42,
      "outputs": []
    },
    {
      "metadata": {
        "id": "HmhUEMtQ7SEw",
        "colab": {
          "base_uri": "https://localhost:8080/"
        },
        "outputId": "89b18dce-6047-4b31-d7e5-cd83b1938b2c"
      },
      "cell_type": "code",
      "source": [
        "len(X_train[4]),len(X_train[2]),len(X_train[1])#that gives the requirement of padding"
      ],
      "execution_count": 43,
      "outputs": [
        {
          "output_type": "execute_result",
          "data": {
            "text/plain": [
              "(147, 141, 189)"
            ]
          },
          "metadata": {},
          "execution_count": 43
        }
      ]
    },
    {
      "cell_type": "code",
      "source": [
        "def decoder(texter):\n",
        "  # Use the default parameters to keras.datasets.imdb.load_data\n",
        "  start_char = 1\n",
        "  oov_char = 2\n",
        "  index_from = 3\n",
        "  # Retrieve the training sequences.\n",
        "  (x_train, _), _ = imdb.load_data(\n",
        "      start_char=start_char, oov_char=oov_char, index_from=index_from\n",
        "  )\n",
        "  # Retrieve the word index file mapping words to indices\n",
        "  word_index = imdb.get_word_index()\n",
        "  # Reverse the word index to obtain a dict mapping indices to words\n",
        "  # And add `index_from` to indices to sync with `x_train`\n",
        "  inverted_word_index = dict(\n",
        "      (i + index_from, word) for (word, i) in word_index.items()\n",
        "  )\n",
        "  # Update `inverted_word_index` to include `start_char` and `oov_char`\n",
        "  inverted_word_index[start_char] = \"[START]\"\n",
        "  inverted_word_index[oov_char] = \"[OOV]\"\n",
        "  # Decode the first sequence in the dataset\n",
        "  decoded_sequence = \" \".join(inverted_word_index[i] for i in texter)\n",
        "  return(decoded_sequence)\n",
        "decoder(X_train[0])"
      ],
      "metadata": {
        "colab": {
          "base_uri": "https://localhost:8080/",
          "height": 143
        },
        "id": "TLbQBz6xB9Wh",
        "outputId": "eb9c8cfe-1eeb-4b5e-b21a-9a5e569aadfa"
      },
      "execution_count": 44,
      "outputs": [
        {
          "output_type": "execute_result",
          "data": {
            "text/plain": [
              "\"[START] this film was just brilliant casting location scenery story direction everyone's really suited the part they played and you could just imagine being there robert [OOV] is an amazing actor and now the same being director [OOV] father came from the same scottish island as myself so i loved the fact there was a real connection with this film the witty remarks throughout the film were great it was just brilliant so much that i bought the film as soon as it was released for [OOV] and would recommend it to everyone to watch and the fly fishing was amazing really cried at the end it was so sad and you know what they say if you cry at a film it must have been good and this definitely was also [OOV] to the two little boy's that played the [OOV] of norman and paul they were just brilliant children are often left out of the [OOV] list i think because the stars that play them all grown up are such a big [OOV] for the whole film but these children are amazing and should be praised for what they have done don't you think the whole story was so lovely because it was true and was someone's life after all that was shared with us all\""
            ],
            "application/vnd.google.colaboratory.intrinsic+json": {
              "type": "string"
            }
          },
          "metadata": {},
          "execution_count": 44
        }
      ]
    },
    {
      "metadata": {
        "id": "c-DfI5IC7r1b"
      },
      "cell_type": "code",
      "source": [
        "maxr_length=500\n",
        "X_train = sequence.pad_sequences(X_train, maxlen=maxr_length)\n",
        "X_test = sequence.pad_sequences(X_test, maxlen=maxr_length)"
      ],
      "execution_count": 45,
      "outputs": []
    },
    {
      "metadata": {
        "id": "F0St-tDY8Yf-",
        "colab": {
          "base_uri": "https://localhost:8080/"
        },
        "outputId": "d5d8248c-2cd2-4473-e2e3-f950816c12e1"
      },
      "cell_type": "code",
      "source": [
        "embedding_vector_length=32\n",
        "model=Sequential()\n",
        "model.add(Embedding(words_limit, embedding_vector_length, input_length=maxr_length))\n",
        "model.add(LSTM(100))\n",
        "model.add(Dense(1,activation='sigmoid'))\n",
        "model.compile(loss='binary_crossentropy', optimizer='adam', metrics=['accuracy'])\n",
        "model.summary()\n",
        "model.fit(X_train,y_train,validation_data=(X_test,y_test),epochs=3,batch_size=64)"
      ],
      "execution_count": 12,
      "outputs": [
        {
          "output_type": "stream",
          "name": "stdout",
          "text": [
            "Model: \"sequential\"\n",
            "_________________________________________________________________\n",
            " Layer (type)                Output Shape              Param #   \n",
            "=================================================================\n",
            " embedding (Embedding)       (None, 500, 32)           192000    \n",
            "                                                                 \n",
            " lstm (LSTM)                 (None, 100)               53200     \n",
            "                                                                 \n",
            " dense (Dense)               (None, 1)                 101       \n",
            "                                                                 \n",
            "=================================================================\n",
            "Total params: 245,301\n",
            "Trainable params: 245,301\n",
            "Non-trainable params: 0\n",
            "_________________________________________________________________\n",
            "Epoch 1/3\n",
            "391/391 [==============================] - 21s 36ms/step - loss: 0.4774 - accuracy: 0.7596 - val_loss: 0.4380 - val_accuracy: 0.7881\n",
            "Epoch 2/3\n",
            "391/391 [==============================] - 13s 32ms/step - loss: 0.3475 - accuracy: 0.8508 - val_loss: 0.3551 - val_accuracy: 0.8526\n",
            "Epoch 3/3\n",
            "391/391 [==============================] - 15s 38ms/step - loss: 0.2985 - accuracy: 0.8732 - val_loss: 0.5297 - val_accuracy: 0.7278\n"
          ]
        },
        {
          "output_type": "execute_result",
          "data": {
            "text/plain": [
              "<keras.callbacks.History at 0x7f648046f5e0>"
            ]
          },
          "metadata": {},
          "execution_count": 12
        }
      ]
    },
    {
      "metadata": {
        "id": "_EXoOX6X-6Nk",
        "colab": {
          "base_uri": "https://localhost:8080/"
        },
        "outputId": "ced207ba-c06d-43d8-c41c-d6b8fcee8702"
      },
      "cell_type": "code",
      "source": [
        "# Final evaluation of the model\n",
        "scores = model.evaluate(X_test, y_test, verbose=0)\n",
        "y_pred = model.predict(X_test)\n",
        "print(\"Accuracy: %.2f%%\" % (scores[1]*100))"
      ],
      "execution_count": 46,
      "outputs": [
        {
          "output_type": "stream",
          "name": "stdout",
          "text": [
            "782/782 [==============================] - 6s 7ms/step\n",
            "Accuracy: 72.78%\n"
          ]
        }
      ]
    },
    {
      "metadata": {
        "id": "wxxH09GnJVzW",
        "colab": {
          "base_uri": "https://localhost:8080/"
        },
        "outputId": "bc987115-d0b9-4574-edf3-d851dcbec264"
      },
      "cell_type": "code",
      "source": [
        "def check(n):\n",
        "  return((decoder(X_test[n])),y_pred[n])\n",
        "check(2)"
      ],
      "execution_count": 50,
      "outputs": [
        {
          "output_type": "execute_result",
          "data": {
            "text/plain": [
              "(\"at a time when motion picture animation of all sorts was in its [OOV] br br the political [OOV] of the russian revolution caused [OOV] to move to paris where one of his first productions [OOV] was a dark political satire [OOV] known as [OOV] or the [OOV] who wanted a king a [OOV] of black comedy can be found in almost all of films but here it is very dark indeed aimed more at grown ups who can appreciate the satirical aspects than children who would most likely find the climax [OOV] i'm middle aged and found it pretty [OOV] myself and indeed [OOV] of the film intended for english speaking viewers of the [OOV] were given title cards filled with [OOV] and [OOV] in order to help [OOV] the sharp [OOV] of the finale br br our tale is set in a [OOV] the [OOV] [OOV] where the citizens are unhappy with their government and have called a special [OOV] to see what they can do to improve matters they decide to [OOV] [OOV] for a king the [OOV] are [OOV] animated in this opening sequence it couldn't have been easy to make so many [OOV] [OOV] look alive simultaneously while [OOV] for his part is depicted as a [OOV] white [OOV] guy in the [OOV] who looks like he'd rather be taking a [OOV] when [OOV] sends them a tree like god who [OOV] them the [OOV] decide that this is no improvement and demand a different king [OOV] [OOV] sends them a [OOV] br br [OOV] with this [OOV] looking new king who towers above them the [OOV] welcome him with a [OOV] of [OOV] dressed [OOV] the mayor steps forward to hand him the key to the [OOV] as [OOV] cameras record the event to everyone's horror the [OOV] [OOV] eats the mayor and then goes on a [OOV] [OOV] [OOV] citizens at random a title card [OOV] reads news of the king's [OOV] throughout the kingdom when the now terrified [OOV] once more [OOV] [OOV] for help he loses his [OOV] and [OOV] their community with [OOV] [OOV] the moral of our story delivered by a hapless [OOV] just before he is eaten is let well enough alone br br considering the time period when this [OOV] little film was made and considering the fact that it was made by a russian [OOV] at the height of that [OOV] [OOV] civil war it would be easy to see this as a [OOV] about those events [OOV] may or may not have had [OOV] [OOV] in mind when he made [OOV] but whatever [OOV] his choice of material the film stands as a [OOV] tale of universal [OOV] [OOV] could be the soviet union italy germany or japan in the 1930s or any country of any era that lets its guard down and is [OOV] by [OOV] it's a fascinating film even a charming one in its [OOV] way but its message is no joke\",\n",
              " array([0.5766226], dtype=float32))"
            ]
          },
          "metadata": {},
          "execution_count": 50
        }
      ]
    },
    {
      "cell_type": "code",
      "source": [],
      "metadata": {
        "id": "42x_MjuiA0r6"
      },
      "execution_count": 48,
      "outputs": []
    },
    {
      "cell_type": "code",
      "source": [],
      "metadata": {
        "id": "bXKYdTqEFUP0"
      },
      "execution_count": null,
      "outputs": []
    }
  ]
}